{
 "cells": [
  {
   "cell_type": "markdown",
   "metadata": {},
   "source": [
    "# Model Run 2\n",
    "\n",
    "The goal here is to tweak the model a little bit to yield more localized strain.\n",
    "Here again are the images from the previous notebook that show the results of other models, some of which are more similar to our results than others.\n",
    "Think about what we can change in our model to get different results.\n",
    "\n",
    "## Possible changes to make\n",
    "\n",
    "Note that any change we make may also affect how long it takes to run the model. \n",
    "Our goal is to stay within the 10-minute time frame that the original model used.\n",
    "\n",
    "Considerations\n",
    " - What type of plot is more helpful for visualizing strain localization?\n",
    " - Does this visualization actually need the full hour of model simulation time?\n",
    " - If we decrease the model simulation time from 1 hour to, say 30 minutes, what may change?\n",
    "\n",
    "Here is a table of some things you may want to try and how they could effect the run time.\n",
    "\n",
    "| Parameter | Change | Change in run time |\n",
    "|-----------|-----------|----------------------|\n",
    "| Mesh resolution | double it | ~4x longer     |\n",
    "| Particles per cell | double it | ~2x longer  |\n",
    "| Sand cohesion | reduce it | no effect? |\n",
    "| Sand Friction angle | reduce it | no effect? |\n",
    "| Sand Viscosity      | ??? | ??? |\n",
    "| Solver tolerance    | increase by 10x | reduced but how much? |\n",
    "\n",
    "\n",
    "Make your change in the code below, and run the cells to see the results. You can run the code cell-by-cell as you scroll down (Shift+Enter). If a cell fails to run, you probably have a typo."
   ]
  },
  {
   "cell_type": "markdown",
   "metadata": {},
   "source": [
    "## Imports and unit scaling\n",
    "### Don't change this"
   ]
  },
  {
   "cell_type": "code",
   "execution_count": null,
   "metadata": {},
   "outputs": [],
   "source": [
    "import UWGeodynamics as GEO\n",
    "u = GEO.UnitRegistry\n",
    "\n",
    "velocity = 2.5 * u.centimeter / u.hour\n",
    "model_length = 20. * u.centimeter\n",
    "bodyforce = 1560 * u.kilogram / u.metre**3 * 9.81 * u.meter / u.second**2\n",
    "\n",
    "KL = model_length\n",
    "Kt = KL / velocity\n",
    "KM = bodyforce * KL**2 * Kt**2\n",
    "\n",
    "GEO.scaling_coefficients[\"[length]\"] = KL\n",
    "GEO.scaling_coefficients[\"[time]\"] = Kt\n",
    "GEO.scaling_coefficients[\"[mass]\"]= KM"
   ]
  },
  {
   "cell_type": "code",
   "execution_count": null,
   "metadata": {},
   "outputs": [],
   "source": [
    "# General parameters\n",
    "# Must be set before initializing the Model object\n",
    "\n",
    "GEO.rcParams['nonlinear.tolerance'] = 1e-2 # default, 1e-2 (0.01)\n",
    "GEO.rcParams['swarm.particles.per.cell.2D'] = 40 # default, 40"
   ]
  },
  {
   "cell_type": "markdown",
   "metadata": {},
   "source": [
    "## Setup model resolution and domain size\n",
    "### Change `elementRes` to increase resolution"
   ]
  },
  {
   "cell_type": "code",
   "execution_count": 4,
   "metadata": {},
   "outputs": [],
   "source": [
    "Model = GEO.Model(elementRes=(120, 30), \n",
    "                  minCoord=(0. * u.centimeter, -3.5 * u.centimeter), \n",
    "                  maxCoord=(20. * u.centimeter, 1.5 * u.centimeter), \n",
    "                  gravity=(0.0, -9.81 * u.meter / u.second**2))\n",
    "\n",
    "Model.mesh_advector(axis=0)\n",
    "\n",
    "# This sets up a grid that is only used for visualization. Do not change.\n",
    "Model.add_visugrid(elementRes=(120, 30), \n",
    "                   minCoord=(0. * u.centimeter, -3.5 * u.centimeter), \n",
    "                   maxCoord=(20. * u.centimeter, 0.0 * u.centimeter))"
   ]
  },
  {
   "cell_type": "markdown",
   "metadata": {},
   "source": [
    "## Material layouts\n",
    "### Do not change"
   ]
  },
  {
   "cell_type": "code",
   "execution_count": 8,
   "metadata": {},
   "outputs": [],
   "source": [
    "air = Model.add_material(name=\"Air\", shape=GEO.shapes.Layer(top=Model.top, bottom=Model.bottom))\n",
    "sand1 = Model.add_material(name=\"Sand1\", shape=GEO.shapes.Layer(top=0.*u.centimeter, bottom=Model.bottom))\n",
    "sand2 = Model.add_material(name=\"Sand2\", shape=GEO.shapes.Layer(top=-1. * u.centimeter, bottom=-2. * u.centimeter))\n",
    "\n",
    "vertices = [( 5.* u.centimeter, -3.0 * u.centimeter),\n",
    "            (15.* u.centimeter, -3.0 * u.centimeter),\n",
    "            (15.* u.centimeter, -3.5 * u.centimeter),\n",
    "            ( 5.* u.centimeter, -3.5 * u.centimeter)]\n",
    "\n",
    "silicon = Model.add_material(name=\"Silicon\", shape=GEO.shapes.Polygon(vertices))"
   ]
  },
  {
   "cell_type": "markdown",
   "metadata": {},
   "source": [
    "## Passive Tracers\n",
    "### No impact on model results"
   ]
  },
  {
   "cell_type": "code",
   "execution_count": 9,
   "metadata": {},
   "outputs": [],
   "source": [
    "import numpy as np\n",
    "\n",
    "npoints = 1000\n",
    "\n",
    "coords = np.ndarray((npoints, 2))\n",
    "coords[:, 0] = np.linspace(GEO.nd(Model.minCoord[0]), GEO.nd(Model.maxCoord[0]), npoints)\n",
    "coords[:, 1] = GEO.nd(sand1.top)\n",
    "\n",
    "Model.add_passive_tracers(name=\"Interface1\", vertices=coords)\n",
    "\n",
    "coords[:, 1] = GEO.nd(sand2.top)\n",
    "Model.add_passive_tracers(name=\"Interface2\", vertices=coords)\n",
    "\n",
    "coords[:, 1] = GEO.nd(sand2.bottom)\n",
    "Model.add_passive_tracers(name=\"Interface3\", vertices=coords)"
   ]
  },
  {
   "cell_type": "code",
   "execution_count": null,
   "metadata": {},
   "outputs": [],
   "source": [
    "from UWGeodynamics import visualisation as vis\n",
    "Fig = vis.Figure(figsize=(1200,400))\n",
    "Fig.Points(Model.Interface1_tracers, pointSize=2.0)\n",
    "Fig.Points(Model.Interface2_tracers, pointSize=2.0)\n",
    "Fig.Points(Model.Interface3_tracers, pointSize=2.0)\n",
    "Fig.Points(Model.swarm, Model.materialField, fn_size=2.0)\n",
    "Fig.Mesh(Model._visugrid.mesh, lineWidth=0.5)\n",
    "Fig.show()"
   ]
  },
  {
   "cell_type": "markdown",
   "metadata": {},
   "source": [
    "## Material densities and viscosities"
   ]
  },
  {
   "cell_type": "code",
   "execution_count": 12,
   "metadata": {},
   "outputs": [],
   "source": [
    "# Define densities\n",
    "air.density = 10. * u.kilogram / u.metre**3\n",
    "sand1.density = 1560. * u.kilogram / u.metre**3\n",
    "sand2.density = 1560. * u.kilogram / u.metre**3\n",
    "silicon.density = 965. * u.kilogram / u.metre**3\n",
    "\n",
    "# Scalar viscosities\n",
    "air.viscosity     = 1.0e2  * u.pascal * u.second\n",
    "sand1.viscosity   = 1.0e13 * u.pascal * u.second\n",
    "sand2.viscosity   = 1.0e13 * u.pascal * u.second\n",
    "silicon.viscosity = 5.0e4  * u.pascal * u.second"
   ]
  },
  {
   "cell_type": "markdown",
   "metadata": {},
   "source": [
    "# Plasticity\n"
   ]
  },
  {
   "cell_type": "code",
   "execution_count": 14,
   "metadata": {},
   "outputs": [],
   "source": [
    "sandPlasticity = GEO.DruckerPrager(cohesion=10. * u.pascal, # before softening\n",
    "                                     cohesionAfterSoftening=10. * u.pascal,\n",
    "                                     frictionCoefficient=0.73, # before softening, radians\n",
    "                                     frictionAfterSoftening=0.60) # after softening, radians\n",
    "\n",
    "# note that 30 degress ~ 0.5 rad\n",
    "\n",
    "# assign plastic behaviour to sand1 and sand2 materials\n",
    "sand1.plasticity = sandPlasticity\n",
    "sand2.plasticity = sandPlasticity"
   ]
  },
  {
   "cell_type": "markdown",
   "metadata": {},
   "source": [
    "## Boundary conditions\n",
    "### Do not change"
   ]
  },
  {
   "cell_type": "code",
   "execution_count": null,
   "metadata": {},
   "outputs": [],
   "source": [
    "import underworld.function as fn\n",
    "\n",
    "conditions = [(Model.x > GEO.nd(10.1 * u.centimetre), GEO.nd(2.5 * u.centimeter / u.hour)),\n",
    "              (Model.x > GEO.nd(9.9 * u.centimetre), (Model.x - GEO.nd(9.9 * u.centimetre)) * GEO.nd(velocity) / GEO.nd(0.2 * u.centimetre)),\n",
    "              (True, 0.0)]\n",
    "\n",
    "fn_condition = fn.branching.conditional(conditions)\n",
    "\n",
    "Model.set_velocityBCs(left=[0 * u.centimeter / u.hour, None],\n",
    "                      right=[2.5 * u.centimeter / u.hour, None],\n",
    "                      bottom=[fn_condition, 0.0])"
   ]
  },
  {
   "cell_type": "markdown",
   "metadata": {},
   "source": [
    "## Initialise Model"
   ]
  },
  {
   "cell_type": "code",
   "execution_count": 17,
   "metadata": {},
   "outputs": [],
   "source": [
    "Model.minViscosity = 1.0e2 * u.pascal * u.second\n",
    "Model.maxViscosity = 1.0e9 * u.pascal * u.second\n",
    "\n",
    "Model.init_model(pressure=\"lithostatic\")"
   ]
  },
  {
   "cell_type": "code",
   "execution_count": null,
   "metadata": {},
   "outputs": [],
   "source": [
    "FigPressure = vis.Figure(figsize=(1200, 400), title=\"Pressure Field (Pa)\", quality=3)\n",
    "FigPressure.Surface(Model.mesh, GEO.dimensionalise(Model.pressureField, u.pascal))\n",
    "FigPressure.show()"
   ]
  },
  {
   "cell_type": "code",
   "execution_count": null,
   "metadata": {},
   "outputs": [],
   "source": [
    "FigViscosity = vis.Figure(figsize=(1200, 400), title=\"Viscosity Field (Pa.s)\", quality=3)\n",
    "FigViscosity.Points(Model.swarm, GEO.dimensionalise(Model.viscosityField, u.pascal * u.second), pointSize=2.0)\n",
    "FigViscosity.show()"
   ]
  },
  {
   "cell_type": "markdown",
   "metadata": {},
   "source": [
    "## Run model"
   ]
  },
  {
   "cell_type": "code",
   "execution_count": 23,
   "metadata": {},
   "outputs": [],
   "source": [
    "Model.solver.set_inner_method(\"mumps\")\n",
    "Model.solver.set_penalty(1e6)\n",
    "\n",
    "Model.run_for(1.0 * u.hours) # run 1 was 1.0 * u.hours"
   ]
  },
  {
   "cell_type": "code",
   "execution_count": null,
   "metadata": {},
   "outputs": [],
   "source": [
    "# Show the figure of material layouts\n",
    "\n",
    "Fig.show()"
   ]
  },
  {
   "cell_type": "code",
   "execution_count": null,
   "metadata": {},
   "outputs": [],
   "source": [
    "# Create figure for strain rate\n",
    "\n",
    "fn = GEO.uw.function\n",
    "\n",
    "map_dict = {\n",
    "    air.index: 0.,\n",
    "    sand1.index: 1.,\n",
    "    sand2.index: 1.,\n",
    "    silicon.index: 1.\n",
    "}\n",
    "mask = fn.branching.map(fn_key=Model.materialField, mapping=map_dict)\n",
    "\n",
    "FigStrainRate = vis.Figure(figsize=(1200, 400), title=\"Strain Rate\", quality=3)\n",
    "FigStrainRate.Points(Model.swarm, fn_colour=Model.strainRateField, fn_mask=mask, pointSize=1.5, logScale=True, colours=\"darkblue blue cyan green yellow orange red darkred\")\n",
    "FigStrainRate.Points(Model.Interface1_tracers)\n",
    "FigStrainRate.Points(Model.Interface2_tracers)\n",
    "FigStrainRate.Points(Model.Interface3_tracers)\n",
    "FigStrainRate.show()"
   ]
  }
 ],
 "metadata": {
  "kernelspec": {
   "display_name": "Python 3",
   "language": "python",
   "name": "python3"
  },
  "language_info": {
   "codemirror_mode": {
    "name": "ipython",
    "version": 3
   },
   "file_extension": ".py",
   "mimetype": "text/x-python",
   "name": "python",
   "nbconvert_exporter": "python",
   "pygments_lexer": "ipython3",
   "version": "3.8.10"
  }
 },
 "nbformat": 4,
 "nbformat_minor": 2
}